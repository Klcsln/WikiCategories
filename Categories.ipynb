{
 "cells": [
  {
   "cell_type": "markdown",
   "metadata": {},
   "source": [
    "# Import the required libraries"
   ]
  },
  {
   "cell_type": "code",
   "execution_count": 1,
   "metadata": {},
   "outputs": [],
   "source": [
    "import requests\n",
    "from bs4 import BeautifulSoup as bs\n",
    "import json\n",
    "import re\n",
    "import pymongo\n",
    "from pymongo import MongoClient"
   ]
  },
  {
   "cell_type": "markdown",
   "metadata": {},
   "source": [
    "# Setup the required inputs"
   ]
  },
  {
   "cell_type": "code",
   "execution_count": 2,
   "metadata": {},
   "outputs": [],
   "source": [
    "# Website url to parse data from\n",
    "website_url = 'https://en.wikipedia.org/wiki/Category:The_Lord_of_the_Rings'\n",
    "# Json Data template as python dictionary\n",
    "json_data = {\n",
    "    'name': \"\",\n",
    "    'subCategories': [],\n",
    "    'pages': [],\n",
    "    'files': []\n",
    "}\n",
    "# CSS Selector queries for beautifulsoup\n",
    "queries = {\"subCategories\": \"div.CategoryTreeItem a\", \"pages\": \"div#mw-pages ul a\", \"files\": \"div#mw-category-media ul a\"}\n",
    "port = 27017"
   ]
  },
  {
   "cell_type": "markdown",
   "metadata": {},
   "source": [
    "# Define the beautifulsoup setup function"
   ]
  },
  {
   "cell_type": "code",
   "execution_count": 3,
   "metadata": {},
   "outputs": [],
   "source": [
    "# Get the html from the url and return the beautifulsoup object to use in parsing\n",
    "def setupSoup(website_url):\n",
    "    try:\n",
    "        html_doc = requests.get(website_url).text\n",
    "        soup = bs(html_doc, 'html.parser')\n",
    "        return soup\n",
    "    # A very generic exception handling, something more sophisticated could be written to better guide the user.\n",
    "    except requests.exceptions.RequestException as e:\n",
    "        print(e)"
   ]
  },
  {
   "cell_type": "markdown",
   "metadata": {},
   "source": [
    "# Define the JSON Builder function"
   ]
  },
  {
   "cell_type": "code",
   "execution_count": 4,
   "metadata": {},
   "outputs": [],
   "source": [
    "# Build and return the parsed JSON data\n",
    "def buildJson(queries,soup,json_data,website_url):\n",
    "    # Set the category name if the URL is a valid wikipedia category URL\n",
    "    if(re.search(\"https://en.wikipedia.org/wiki/Category:\", website_url)):\n",
    "        json_data[\"name\"] = website_url.split(\"Category:\")[1]\n",
    "    # Parse the data for each query\n",
    "    for query in queries:\n",
    "        for item in soup.select(queries[query]):\n",
    "            url = \"https://en.wikipedia.org\" + item.get(\"href\")\n",
    "            content = item.text\n",
    "            data = {'name': content, 'url': url}\n",
    "            json_data[query].append(data)\n",
    "    return json_data"
   ]
  },
  {
   "cell_type": "markdown",
   "metadata": {},
   "source": [
    "# Define the database setup function"
   ]
  },
  {
   "cell_type": "code",
   "execution_count": 5,
   "metadata": {},
   "outputs": [],
   "source": [
    "def setupDB(port,json_data):\n",
    "    client = MongoClient('localhost', port)\n",
    "    db = client.categories_db\n",
    "    collection = db.parsed_categories\n",
    "    # Empty the collection before inserting data. This is for testing purposes\n",
    "    collection.delete_many({})\n",
    "    collection.insert_one(json_data)\n",
    "    return client"
   ]
  },
  {
   "cell_type": "markdown",
   "metadata": {},
   "source": [
    "# Run the program"
   ]
  },
  {
   "cell_type": "code",
   "execution_count": 6,
   "metadata": {},
   "outputs": [],
   "source": [
    "soup = setupSoup(website_url)\n",
    "json_data = buildJson(queries,soup,json_data,website_url)\n",
    "client = setupDB(port,json_data)"
   ]
  },
  {
   "cell_type": "code",
   "execution_count": 7,
   "metadata": {
    "scrolled": true
   },
   "outputs": [
    {
     "data": {
      "text/plain": [
       "{'_id': ObjectId('5e58eb1d69fd6882c51135a9'),\n",
       " 'name': 'The_Lord_of_the_Rings',\n",
       " 'subCategories': [{'name': '174567 Varda',\n",
       "   'url': 'https://en.wikipedia.org/wiki/Category:174567_Varda'},\n",
       "  {'name': 'The Lord of the Rings book cover images',\n",
       "   'url': 'https://en.wikipedia.org/wiki/Category:The_Lord_of_the_Rings_book_cover_images'},\n",
       "  {'name': 'The Lord of the Rings characters',\n",
       "   'url': 'https://en.wikipedia.org/wiki/Category:The_Lord_of_the_Rings_characters'},\n",
       "  {'name': 'The Lord of the Rings (film series)',\n",
       "   'url': 'https://en.wikipedia.org/wiki/Category:The_Lord_of_the_Rings_(film_series)'},\n",
       "  {'name': 'Middle-earth locations',\n",
       "   'url': 'https://en.wikipedia.org/wiki/Category:Middle-earth_locations'},\n",
       "  {'name': 'Translations of The Lord of the Rings',\n",
       "   'url': 'https://en.wikipedia.org/wiki/Category:Translations_of_The_Lord_of_the_Rings'}],\n",
       " 'pages': [{'name': 'The Lord of the Rings',\n",
       "   'url': 'https://en.wikipedia.org/wiki/The_Lord_of_the_Rings'},\n",
       "  {'name': '378214 Sauron',\n",
       "   'url': 'https://en.wikipedia.org/wiki/378214_Sauron'},\n",
       "  {'name': 'Adaptations of The Lord of the Rings',\n",
       "   'url': 'https://en.wikipedia.org/wiki/Adaptations_of_The_Lord_of_the_Rings'},\n",
       "  {'name': '2991 Bilbo', 'url': 'https://en.wikipedia.org/wiki/2991_Bilbo'},\n",
       "  {'name': 'The Fellowship of the Ring',\n",
       "   'url': 'https://en.wikipedia.org/wiki/The_Fellowship_of_the_Ring'},\n",
       "  {'name': 'Guide to the Names in The Lord of the Rings',\n",
       "   'url': 'https://en.wikipedia.org/wiki/Guide_to_the_Names_in_The_Lord_of_the_Rings'},\n",
       "  {'name': 'The History of The Lord of the Rings',\n",
       "   'url': 'https://en.wikipedia.org/wiki/The_History_of_The_Lord_of_the_Rings'},\n",
       "  {'name': 'Hobbit', 'url': 'https://en.wikipedia.org/wiki/Hobbit'},\n",
       "  {'name': 'Ilmarë (moon)',\n",
       "   'url': 'https://en.wikipedia.org/wiki/Ilmar%C3%AB_(moon)'},\n",
       "  {'name': \"J. R. R. Tolkien's influences\",\n",
       "   'url': 'https://en.wikipedia.org/wiki/J._R._R._Tolkien%27s_influences'},\n",
       "  {'name': 'Lord of the Rings Labyrinth',\n",
       "   'url': 'https://en.wikipedia.org/wiki/Lord_of_the_Rings_Labyrinth'},\n",
       "  {'name': '385446 Manwë',\n",
       "   'url': 'https://en.wikipedia.org/wiki/385446_Manw%C3%AB'},\n",
       "  {'name': 'Mordor Macula',\n",
       "   'url': 'https://en.wikipedia.org/wiki/Mordor_Macula'},\n",
       "  {'name': 'Ochyrocera laracna',\n",
       "   'url': 'https://en.wikipedia.org/wiki/Ochyrocera_laracna'},\n",
       "  {'name': 'Red Book of Westmarch',\n",
       "   'url': 'https://en.wikipedia.org/wiki/Red_Book_of_Westmarch'},\n",
       "  {'name': 'The Return of the King',\n",
       "   'url': 'https://en.wikipedia.org/wiki/The_Return_of_the_King'},\n",
       "  {'name': 'Symphony No. 1 \"The Lord of the Rings\"',\n",
       "   'url': 'https://en.wikipedia.org/wiki/Symphony_No._1_%22The_Lord_of_the_Rings%22'},\n",
       "  {'name': 'The Tale of Aragorn and Arwen',\n",
       "   'url': 'https://en.wikipedia.org/wiki/The_Tale_of_Aragorn_and_Arwen'},\n",
       "  {'name': 'The End of the Third Age',\n",
       "   'url': 'https://en.wikipedia.org/wiki/The_End_of_the_Third_Age'},\n",
       "  {'name': 'The Ring Goes East',\n",
       "   'url': 'https://en.wikipedia.org/wiki/The_Ring_Goes_East'},\n",
       "  {'name': 'The Ring Goes South',\n",
       "   'url': 'https://en.wikipedia.org/wiki/The_Ring_Goes_South'},\n",
       "  {'name': 'The Ring Sets Out',\n",
       "   'url': 'https://en.wikipedia.org/wiki/The_Ring_Sets_Out'},\n",
       "  {'name': 'The Treason of Isengard (1954 book)',\n",
       "   'url': 'https://en.wikipedia.org/wiki/The_Treason_of_Isengard_(1954_book)'},\n",
       "  {'name': 'The War of the Ring (1955 book)',\n",
       "   'url': 'https://en.wikipedia.org/wiki/The_War_of_the_Ring_(1955_book)'},\n",
       "  {'name': 'Themes of The Lord of the Rings',\n",
       "   'url': 'https://en.wikipedia.org/wiki/Themes_of_The_Lord_of_the_Rings'},\n",
       "  {'name': 'Tolkien tourism',\n",
       "   'url': 'https://en.wikipedia.org/wiki/Tolkien_tourism'},\n",
       "  {'name': 'The Two Towers',\n",
       "   'url': 'https://en.wikipedia.org/wiki/The_Two_Towers'},\n",
       "  {'name': 'Yearbook of Tuckborough',\n",
       "   'url': 'https://en.wikipedia.org/wiki/Yearbook_of_Tuckborough'}],\n",
       " 'files': [{'name': 'File:The Fellowship of the Ring cover.gif',\n",
       "   'url': 'https://en.wikipedia.org/wiki/File:The_Fellowship_of_the_Ring_cover.gif'},\n",
       "  {'name': 'File:The Lord of the Rings (1978).jpg',\n",
       "   'url': 'https://en.wikipedia.org/wiki/File:The_Lord_of_the_Rings_(1978).jpg'},\n",
       "  {'name': 'File:The Return of the King cover.gif',\n",
       "   'url': 'https://en.wikipedia.org/wiki/File:The_Return_of_the_King_cover.gif'},\n",
       "  {'name': 'File:The Two Towers cover.gif',\n",
       "   'url': 'https://en.wikipedia.org/wiki/File:The_Two_Towers_cover.gif'}]}"
      ]
     },
     "execution_count": 7,
     "metadata": {},
     "output_type": "execute_result"
    }
   ],
   "source": [
    "# Just checking the collection for the content\n",
    "client.categories_db.parsed_categories.find_one()"
   ]
  },
  {
   "cell_type": "markdown",
   "metadata": {},
   "source": [
    "# Some functions to explore the database\n",
    "## collection.find() \n",
    "Returns a mongodb cursor including everything in the collection, you can loop through the cursor to see the contents, you can pass in an object to search for a specific object\n",
    "## collection.find_one()\n",
    "Returns the first object from the database\n",
    "## collection.delete_many({})\n",
    "Deletes every entry in the database\n",
    "## print(client.list_database_names())\n",
    "Prints the databases created"
   ]
  }
 ],
 "metadata": {
  "kernelspec": {
   "display_name": "Python 3",
   "language": "python",
   "name": "python3"
  },
  "language_info": {
   "codemirror_mode": {
    "name": "ipython",
    "version": 3
   },
   "file_extension": ".py",
   "mimetype": "text/x-python",
   "name": "python",
   "nbconvert_exporter": "python",
   "pygments_lexer": "ipython3",
   "version": "3.6.10"
  }
 },
 "nbformat": 4,
 "nbformat_minor": 2
}
