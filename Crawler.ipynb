{
 "cells": [
  {
   "cell_type": "code",
   "execution_count": 351,
   "metadata": {},
   "outputs": [],
   "source": [
    "import requests\n",
    "from bs4 import BeautifulSoup as bs\n",
    "import json\n",
    "import re"
   ]
  },
  {
   "cell_type": "code",
   "execution_count": 352,
   "metadata": {},
   "outputs": [],
   "source": [
    "website_url = 'https://en.wikipedia.org/wiki/Category:The_Lord_of_the_Rings'\n",
    "# Get the html from the url and parse it to a beautifulsoup object\n",
    "def setupSoup(website_url):\n",
    "    try:\n",
    "        html_doc = requests.get(website_url).text\n",
    "        soup = BeautifulSoup(html_doc, 'html.parser')\n",
    "        return soup\n",
    "    # A very generic exception handling, something more sophisticated could be written to better guide the user.\n",
    "    except requests.exceptions.RequestException as e:\n",
    "        print(e)\n",
    "\n",
    "soup = setupSoup(website_url)"
   ]
  },
  {
   "cell_type": "code",
   "execution_count": 353,
   "metadata": {},
   "outputs": [],
   "source": [
    "# Json Data template as python dictionary\n",
    "json_data = {\n",
    "    'name': \"\",\n",
    "    'subCategories': [],\n",
    "    'pages': [],\n",
    "    'files': []\n",
    "}"
   ]
  },
  {
   "cell_type": "code",
   "execution_count": 354,
   "metadata": {},
   "outputs": [],
   "source": [
    "# CSS Selector queries for beautifulsoup\n",
    "queries = {\"subCategories\": \"div.CategoryTreeItem a\", \"pages\": \"div#mw-pages ul a\", \"files\": \"div#mw-category-media ul a\"}"
   ]
  },
  {
   "cell_type": "code",
   "execution_count": 355,
   "metadata": {},
   "outputs": [],
   "source": [
    "def buildJson(queries,soup,json_data,website_url):\n",
    "    # Set the category name if the URL is a valid wikipedia category URL\n",
    "    if(re.search(\"https://en.wikipedia.org/wiki/Category:\", website_url)):\n",
    "        json_data[\"name\"] = website_url.split(\"Category:\")[1]\n",
    "    # Parse the data for each query\n",
    "    for query in queries:\n",
    "        for item in soup.select(queries[query]):\n",
    "            url = \"https://en.wikipedia.org\" + item.get(\"href\")\n",
    "            content = item.text\n",
    "            data = {'name': content, 'url': url}\n",
    "            json_data[query].append(data)"
   ]
  },
  {
   "cell_type": "code",
   "execution_count": 356,
   "metadata": {},
   "outputs": [],
   "source": [
    "buildJson(queries,soup,json_data,website_url)"
   ]
  },
  {
   "cell_type": "code",
   "execution_count": 357,
   "metadata": {},
   "outputs": [
    {
     "name": "stdout",
     "output_type": "stream",
     "text": [
      "{\n",
      "  \"name\": \"The_Lord_of_the_Rings\",\n",
      "  \"subCategories\": [\n",
      "    {\n",
      "      \"name\": \"174567 Varda\",\n",
      "      \"url\": \"https://en.wikipedia.org/wiki/Category:174567_Varda\"\n",
      "    },\n",
      "    {\n",
      "      \"name\": \"The Lord of the Rings book cover images\",\n",
      "      \"url\": \"https://en.wikipedia.org/wiki/Category:The_Lord_of_the_Rings_book_cover_images\"\n",
      "    },\n",
      "    {\n",
      "      \"name\": \"The Lord of the Rings characters\",\n",
      "      \"url\": \"https://en.wikipedia.org/wiki/Category:The_Lord_of_the_Rings_characters\"\n",
      "    },\n",
      "    {\n",
      "      \"name\": \"The Lord of the Rings (film series)\",\n",
      "      \"url\": \"https://en.wikipedia.org/wiki/Category:The_Lord_of_the_Rings_(film_series)\"\n",
      "    },\n",
      "    {\n",
      "      \"name\": \"Middle-earth locations\",\n",
      "      \"url\": \"https://en.wikipedia.org/wiki/Category:Middle-earth_locations\"\n",
      "    },\n",
      "    {\n",
      "      \"name\": \"Translations of The Lord of the Rings\",\n",
      "      \"url\": \"https://en.wikipedia.org/wiki/Category:Translations_of_The_Lord_of_the_Rings\"\n",
      "    }\n",
      "  ],\n",
      "  \"pages\": [\n",
      "    {\n",
      "      \"name\": \"The Lord of the Rings\",\n",
      "      \"url\": \"https://en.wikipedia.org/wiki/The_Lord_of_the_Rings\"\n",
      "    },\n",
      "    {\n",
      "      \"name\": \"378214 Sauron\",\n",
      "      \"url\": \"https://en.wikipedia.org/wiki/378214_Sauron\"\n",
      "    },\n",
      "    {\n",
      "      \"name\": \"Adaptations of The Lord of the Rings\",\n",
      "      \"url\": \"https://en.wikipedia.org/wiki/Adaptations_of_The_Lord_of_the_Rings\"\n",
      "    },\n",
      "    {\n",
      "      \"name\": \"2991 Bilbo\",\n",
      "      \"url\": \"https://en.wikipedia.org/wiki/2991_Bilbo\"\n",
      "    },\n",
      "    {\n",
      "      \"name\": \"The Fellowship of the Ring\",\n",
      "      \"url\": \"https://en.wikipedia.org/wiki/The_Fellowship_of_the_Ring\"\n",
      "    },\n",
      "    {\n",
      "      \"name\": \"Guide to the Names in The Lord of the Rings\",\n",
      "      \"url\": \"https://en.wikipedia.org/wiki/Guide_to_the_Names_in_The_Lord_of_the_Rings\"\n",
      "    },\n",
      "    {\n",
      "      \"name\": \"The History of The Lord of the Rings\",\n",
      "      \"url\": \"https://en.wikipedia.org/wiki/The_History_of_The_Lord_of_the_Rings\"\n",
      "    },\n",
      "    {\n",
      "      \"name\": \"Hobbit\",\n",
      "      \"url\": \"https://en.wikipedia.org/wiki/Hobbit\"\n",
      "    },\n",
      "    {\n",
      "      \"name\": \"Ilmar\\u00eb (moon)\",\n",
      "      \"url\": \"https://en.wikipedia.org/wiki/Ilmar%C3%AB_(moon)\"\n",
      "    },\n",
      "    {\n",
      "      \"name\": \"J. R. R. Tolkien's influences\",\n",
      "      \"url\": \"https://en.wikipedia.org/wiki/J._R._R._Tolkien%27s_influences\"\n",
      "    },\n",
      "    {\n",
      "      \"name\": \"Lord of the Rings Labyrinth\",\n",
      "      \"url\": \"https://en.wikipedia.org/wiki/Lord_of_the_Rings_Labyrinth\"\n",
      "    },\n",
      "    {\n",
      "      \"name\": \"385446 Manw\\u00eb\",\n",
      "      \"url\": \"https://en.wikipedia.org/wiki/385446_Manw%C3%AB\"\n",
      "    },\n",
      "    {\n",
      "      \"name\": \"Mordor Macula\",\n",
      "      \"url\": \"https://en.wikipedia.org/wiki/Mordor_Macula\"\n",
      "    },\n",
      "    {\n",
      "      \"name\": \"Ochyrocera laracna\",\n",
      "      \"url\": \"https://en.wikipedia.org/wiki/Ochyrocera_laracna\"\n",
      "    },\n",
      "    {\n",
      "      \"name\": \"Red Book of Westmarch\",\n",
      "      \"url\": \"https://en.wikipedia.org/wiki/Red_Book_of_Westmarch\"\n",
      "    },\n",
      "    {\n",
      "      \"name\": \"The Return of the King\",\n",
      "      \"url\": \"https://en.wikipedia.org/wiki/The_Return_of_the_King\"\n",
      "    },\n",
      "    {\n",
      "      \"name\": \"Symphony No. 1 \\\"The Lord of the Rings\\\"\",\n",
      "      \"url\": \"https://en.wikipedia.org/wiki/Symphony_No._1_%22The_Lord_of_the_Rings%22\"\n",
      "    },\n",
      "    {\n",
      "      \"name\": \"The Tale of Aragorn and Arwen\",\n",
      "      \"url\": \"https://en.wikipedia.org/wiki/The_Tale_of_Aragorn_and_Arwen\"\n",
      "    },\n",
      "    {\n",
      "      \"name\": \"The End of the Third Age\",\n",
      "      \"url\": \"https://en.wikipedia.org/wiki/The_End_of_the_Third_Age\"\n",
      "    },\n",
      "    {\n",
      "      \"name\": \"The Ring Goes East\",\n",
      "      \"url\": \"https://en.wikipedia.org/wiki/The_Ring_Goes_East\"\n",
      "    },\n",
      "    {\n",
      "      \"name\": \"The Ring Goes South\",\n",
      "      \"url\": \"https://en.wikipedia.org/wiki/The_Ring_Goes_South\"\n",
      "    },\n",
      "    {\n",
      "      \"name\": \"The Ring Sets Out\",\n",
      "      \"url\": \"https://en.wikipedia.org/wiki/The_Ring_Sets_Out\"\n",
      "    },\n",
      "    {\n",
      "      \"name\": \"The Treason of Isengard (1954 book)\",\n",
      "      \"url\": \"https://en.wikipedia.org/wiki/The_Treason_of_Isengard_(1954_book)\"\n",
      "    },\n",
      "    {\n",
      "      \"name\": \"The War of the Ring (1955 book)\",\n",
      "      \"url\": \"https://en.wikipedia.org/wiki/The_War_of_the_Ring_(1955_book)\"\n",
      "    },\n",
      "    {\n",
      "      \"name\": \"Themes of The Lord of the Rings\",\n",
      "      \"url\": \"https://en.wikipedia.org/wiki/Themes_of_The_Lord_of_the_Rings\"\n",
      "    },\n",
      "    {\n",
      "      \"name\": \"Tolkien tourism\",\n",
      "      \"url\": \"https://en.wikipedia.org/wiki/Tolkien_tourism\"\n",
      "    },\n",
      "    {\n",
      "      \"name\": \"The Two Towers\",\n",
      "      \"url\": \"https://en.wikipedia.org/wiki/The_Two_Towers\"\n",
      "    },\n",
      "    {\n",
      "      \"name\": \"Yearbook of Tuckborough\",\n",
      "      \"url\": \"https://en.wikipedia.org/wiki/Yearbook_of_Tuckborough\"\n",
      "    }\n",
      "  ],\n",
      "  \"files\": [\n",
      "    {\n",
      "      \"name\": \"File:The Fellowship of the Ring cover.gif\",\n",
      "      \"url\": \"https://en.wikipedia.org/wiki/File:The_Fellowship_of_the_Ring_cover.gif\"\n",
      "    },\n",
      "    {\n",
      "      \"name\": \"File:The Lord of the Rings (1978).jpg\",\n",
      "      \"url\": \"https://en.wikipedia.org/wiki/File:The_Lord_of_the_Rings_(1978).jpg\"\n",
      "    },\n",
      "    {\n",
      "      \"name\": \"File:The Return of the King cover.gif\",\n",
      "      \"url\": \"https://en.wikipedia.org/wiki/File:The_Return_of_the_King_cover.gif\"\n",
      "    },\n",
      "    {\n",
      "      \"name\": \"File:The Two Towers cover.gif\",\n",
      "      \"url\": \"https://en.wikipedia.org/wiki/File:The_Two_Towers_cover.gif\"\n",
      "    }\n",
      "  ]\n",
      "}\n"
     ]
    }
   ],
   "source": [
    "print(json.dumps(json_data, indent=2))"
   ]
  },
  {
   "cell_type": "code",
   "execution_count": 358,
   "metadata": {},
   "outputs": [],
   "source": [
    "import pymongo\n",
    "from pymongo import MongoClient"
   ]
  },
  {
   "cell_type": "code",
   "execution_count": 359,
   "metadata": {},
   "outputs": [],
   "source": [
    "client = MongoClient('mongodb://localhost:27017')"
   ]
  },
  {
   "cell_type": "code",
   "execution_count": 360,
   "metadata": {},
   "outputs": [],
   "source": [
    "db = client.pymongo_test"
   ]
  },
  {
   "cell_type": "code",
   "execution_count": 361,
   "metadata": {},
   "outputs": [
    {
     "name": "stdout",
     "output_type": "stream",
     "text": [
      "One post: 5e57adc499e898741b4fee9b\n"
     ]
    }
   ],
   "source": [
    "posts = db.posts\n",
    "post_data = {\n",
    "    'title': 'Python and MongoDB',\n",
    "    'content': 'PyMongo is fun, you guys',\n",
    "    'author': 'Scott'\n",
    "}\n",
    "result = posts.insert_one(post_data)\n",
    "print('One post: {0}'.format(result.inserted_id))"
   ]
  },
  {
   "cell_type": "code",
   "execution_count": 362,
   "metadata": {},
   "outputs": [
    {
     "name": "stdout",
     "output_type": "stream",
     "text": [
      "Multiple posts: [ObjectId('5e57adc499e898741b4fee9c'), ObjectId('5e57adc499e898741b4fee9d'), ObjectId('5e57adc499e898741b4fee9e')]\n"
     ]
    }
   ],
   "source": [
    "post_1 = {\n",
    "    'title': 'Python and MongoDB',\n",
    "    'content': 'PyMongo is fun, you guys',\n",
    "    'author': 'Scott'\n",
    "}\n",
    "post_2 = {\n",
    "    'title': 'Virtual Environments',\n",
    "    'content': 'Use virtual environments, you guys',\n",
    "    'author': 'Scott'\n",
    "}\n",
    "post_3 = {\n",
    "    'title': 'Learning Python',\n",
    "    'content': 'Learn Python, it is easy',\n",
    "    'author': 'Bill'\n",
    "}\n",
    "new_result = posts.insert_many([post_1, post_2, post_3])\n",
    "print('Multiple posts: {0}'.format(new_result.inserted_ids))"
   ]
  },
  {
   "cell_type": "code",
   "execution_count": 363,
   "metadata": {},
   "outputs": [
    {
     "name": "stdout",
     "output_type": "stream",
     "text": [
      "{'_id': ObjectId('5e57ac2599e898741b4fee8a'), 'title': 'Learning Python', 'content': 'Learn Python, it is easy', 'author': 'Bill'}\n"
     ]
    }
   ],
   "source": [
    "bills_post = posts.find_one({'author': 'Bill'})\n",
    "print(bills_post)"
   ]
  },
  {
   "cell_type": "code",
   "execution_count": 364,
   "metadata": {},
   "outputs": [
    {
     "name": "stdout",
     "output_type": "stream",
     "text": [
      "<pymongo.cursor.Cursor object at 0x0000013E4E245CC8>\n"
     ]
    }
   ],
   "source": [
    "scotts_posts = posts.find({'author': 'Scott'})\n",
    "print(scotts_posts)"
   ]
  },
  {
   "cell_type": "code",
   "execution_count": 365,
   "metadata": {},
   "outputs": [
    {
     "name": "stdout",
     "output_type": "stream",
     "text": [
      "{'_id': ObjectId('5e57ac1d99e898741b4fee87'), 'title': 'Python and MongoDB', 'content': 'PyMongo is fun, you guys', 'author': 'Scott'}\n",
      "{'_id': ObjectId('5e57ac2599e898741b4fee88'), 'title': 'Python and MongoDB', 'content': 'PyMongo is fun, you guys', 'author': 'Scott'}\n",
      "{'_id': ObjectId('5e57ac2599e898741b4fee89'), 'title': 'Virtual Environments', 'content': 'Use virtual environments, you guys', 'author': 'Scott'}\n",
      "{'_id': ObjectId('5e57ad9d99e898741b4fee8c'), 'title': 'Python and MongoDB', 'content': 'PyMongo is fun, you guys', 'author': 'Scott'}\n",
      "{'_id': ObjectId('5e57ad9d99e898741b4fee8d'), 'title': 'Python and MongoDB', 'content': 'PyMongo is fun, you guys', 'author': 'Scott'}\n",
      "{'_id': ObjectId('5e57ad9d99e898741b4fee8e'), 'title': 'Virtual Environments', 'content': 'Use virtual environments, you guys', 'author': 'Scott'}\n",
      "{'_id': ObjectId('5e57adb199e898741b4fee91'), 'title': 'Python and MongoDB', 'content': 'PyMongo is fun, you guys', 'author': 'Scott'}\n",
      "{'_id': ObjectId('5e57adb199e898741b4fee92'), 'title': 'Python and MongoDB', 'content': 'PyMongo is fun, you guys', 'author': 'Scott'}\n",
      "{'_id': ObjectId('5e57adb199e898741b4fee93'), 'title': 'Virtual Environments', 'content': 'Use virtual environments, you guys', 'author': 'Scott'}\n",
      "{'_id': ObjectId('5e57adb799e898741b4fee96'), 'title': 'Python and MongoDB', 'content': 'PyMongo is fun, you guys', 'author': 'Scott'}\n",
      "{'_id': ObjectId('5e57adb799e898741b4fee97'), 'title': 'Python and MongoDB', 'content': 'PyMongo is fun, you guys', 'author': 'Scott'}\n",
      "{'_id': ObjectId('5e57adb799e898741b4fee98'), 'title': 'Virtual Environments', 'content': 'Use virtual environments, you guys', 'author': 'Scott'}\n",
      "{'_id': ObjectId('5e57adc499e898741b4fee9b'), 'title': 'Python and MongoDB', 'content': 'PyMongo is fun, you guys', 'author': 'Scott'}\n",
      "{'_id': ObjectId('5e57adc499e898741b4fee9c'), 'title': 'Python and MongoDB', 'content': 'PyMongo is fun, you guys', 'author': 'Scott'}\n",
      "{'_id': ObjectId('5e57adc499e898741b4fee9d'), 'title': 'Virtual Environments', 'content': 'Use virtual environments, you guys', 'author': 'Scott'}\n"
     ]
    }
   ],
   "source": [
    "for post in scotts_posts:\n",
    "    print(post)"
   ]
  }
 ],
 "metadata": {
  "kernelspec": {
   "display_name": "Python 3",
   "language": "python",
   "name": "python3"
  },
  "language_info": {
   "codemirror_mode": {
    "name": "ipython",
    "version": 3
   },
   "file_extension": ".py",
   "mimetype": "text/x-python",
   "name": "python",
   "nbconvert_exporter": "python",
   "pygments_lexer": "ipython3",
   "version": "3.7.4"
  }
 },
 "nbformat": 4,
 "nbformat_minor": 2
}
